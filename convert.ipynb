{
 "metadata": {
  "language_info": {
   "codemirror_mode": {
    "name": "ipython",
    "version": 3
   },
   "file_extension": ".py",
   "mimetype": "text/x-python",
   "name": "python",
   "nbconvert_exporter": "python",
   "pygments_lexer": "ipython3",
   "version": "3.7.1"
  },
  "orig_nbformat": 2,
  "kernelspec": {
   "name": "python3",
   "display_name": "Python 3.7.1 64-bit ('base': conda)"
  },
  "interpreter": {
   "hash": "e3bc7d3962532b9c730a463d08ceb6d0dd64d19a3e52a045e6990c62d377e83f"
  }
 },
 "nbformat": 4,
 "nbformat_minor": 2,
 "cells": [
  {
   "cell_type": "code",
   "execution_count": 2,
   "source": [
    "import json\r\n",
    "import re\r\n",
    "def removeCCppComment(text):  # https://stackoverflow.com/a/18234680\r\n",
    "    # Return a string containing only the newline chars contained in strIn\r\n",
    "    def blotOutNonNewlines(strIn):\r\n",
    "        return \"\" + (\"\\n\" * strIn.count('\\n'))\r\n",
    "\r\n",
    "    def replacer(match):\r\n",
    "        s = match.group(0)\r\n",
    "        # Matched string is //...EOL or /*...*/  ==> Blot out all non-newline chars\r\n",
    "        if s.startswith('/'):\r\n",
    "            return blotOutNonNewlines(s)\r\n",
    "        else:  # Matched string is '...' or \"...\"  ==> Keep unchanged\r\n",
    "            return s\r\n",
    "\r\n",
    "    pattern = re.compile(\r\n",
    "        r'//.*?$|/\\*.*?\\*/|\\'(?:\\\\.|[^\\\\\\'])*\\'|\"(?:\\\\.|[^\\\\\"])*\"',\r\n",
    "        re.DOTALL | re.MULTILINE\r\n",
    "    )\r\n",
    "\r\n",
    "    return re.sub(pattern, replacer, text)\r\n",
    "\r\n",
    "# D = json.loads(J) # NOTE, documentation string might throw exeception\r\n",
    "def D2C(J, sub_ANY=True):\r\n",
    "    if sub_ANY:\r\n",
    "        J = re.sub(r'ANY\\((.*)?\\)', r'\\1', J)\r\n",
    "    D = json.loads(J)\r\n",
    "    layout = D[\"layout\"]\r\n",
    "    layers = D[\"layers\"]\r\n",
    "    s = \"const uint16_t PROGMEM keymaps[][MATRIX_ROWS][MATRIX_COLS] = {\"\r\n",
    "    for i in range(len(layers)):\r\n",
    "        s += \"\\n  [%d] = %s(\" % (i, layout)\r\n",
    "        s += \", \".join(layers[i])\r\n",
    "        s += \")\"\r\n",
    "        if i < len(layers)-1:\r\n",
    "            s += \",\"\r\n",
    "    s += \"\\n};\"\r\n",
    "    return s\r\n",
    "\r\n",
    "def C2D(C, kb, km, layout):\r\n",
    "    matches = re.findall(r\"\\[(\\d+)\\] = ([^\\(\\)]+)\\((.*)\\)\",C)\r\n",
    "    D = {}\r\n",
    "    D[\"version\"] = 1\r\n",
    "    D[\"notes\"] = \"\"\r\n",
    "    D[\"keyboard\"] = kb # \"ergodash/rev1\"\r\n",
    "    D[\"keymap\"] = km # \"ergodash_rev1_layout_4key_2u_inner_mine\"\r\n",
    "    D[\"layout\"] = layout # \"LAYOUT_4key_2u_inner\"\r\n",
    "    D[\"layers\"] = []\r\n",
    "    for match in matches:\r\n",
    "        D[\"layers\"].append( [kc.strip() for kc in re.split(r\",(?![^\\(]*\\))\", match[2])] ) # seems to work\r\n",
    "        # D[\"layers\"].append([kc.strip() for kc in match[2].split(\", \")])\r\n",
    "    D[\"author\"] = \"\"\r\n",
    "    return json.dumps(D)\r\n",
    "\r\n",
    "def find_block(ccode, start, end):\r\n",
    "    txt = removeCCppComment(ccode)\r\n",
    "    lines = txt.split(\"\\n\")\r\n",
    "    out = []\r\n",
    "    appending = False\r\n",
    "    for line in lines:\r\n",
    "        line = line.strip()\r\n",
    "        if len(line) == 0:\r\n",
    "            continue\r\n",
    "        if not appending:\r\n",
    "            if start in line:\r\n",
    "                out.append(start + line.split(start)[1]) # assume start occures at most once in the line..\r\n",
    "                assert(len(line.split(start)) == 2) # otherwise could do start.join(line.split(start)[1:])\r\n",
    "                appending = True\r\n",
    "                continue # already appended line with special split\r\n",
    "        if appending:\r\n",
    "            if end in line: # includes ending, and stops after finding first occurence of start...end\r\n",
    "                out.append(line.split(end)[0] + end)\r\n",
    "                break\r\n",
    "            else:\r\n",
    "                out.append(line)\r\n",
    "    return \"\\n\".join(out)\r\n",
    "\r\n",
    "def convert_json2c(cfile, kb, km, layout, jsonfile):\r\n",
    "    with open(cfile, \"r\") as rfile:\r\n",
    "        ccode = rfile.read()\r\n",
    "        # print(ccode)\r\n",
    "        tst = removeCCppComment(ccode)\r\n",
    "        tst = find_block(ccode, start=\"const uint16_t PROGMEM keymaps\", end=\";\")\r\n",
    "        tst = C2D(tst, kb, km, layout)\r\n",
    "        with open(jsonfile, \"w\") as wfile:\r\n",
    "            wfile.write(tst)"
   ],
   "outputs": [],
   "metadata": {}
  },
  {
   "cell_type": "code",
   "execution_count": null,
   "source": [
    "# convert_json2c(\"D:/QMK/qmk_firmware/keyboards/ergodash/rev1/keymaps/qmk_ergodash_keymap/keymap.c\",\r\n",
    "#                kb=\"ergodash/rev1\",\r\n",
    "#                km=\"ergodash_rev1_layout_4key_2u_inner_mine\",\r\n",
    "#                layout=\"LAYOUT_4key_2u_inner\",\r\n",
    "#                jsonfile=\"D:/QMK/qmk_firmware/keyboards/ergodash/rev1/keymaps/qmk_ergodash_keymap/converted.json\"\r\n",
    "#               )"
   ],
   "outputs": [],
   "metadata": {}
  },
  {
   "cell_type": "code",
   "execution_count": 32,
   "source": [
    "print(D2C(\"\"\"{\"version\":1,\"notes\":\"\",\"documentation\":\"...\",\"keyboard\":\"ergodash/rev1\",\"keymap\":\"ergodash_rev1_layout_4key_2u_inner_mine\",\"layout\":\"LAYOUT_4key_2u_inner\",\"layers\":[[\"KC_ESC\",\"...\",\"KC_RGHT\"],[\"KC_TRNS\",\"...\",\"KC_NO\"]],\"author\":\"\"}\r\n",
    "\"\"\"))"
   ],
   "outputs": [
    {
     "output_type": "stream",
     "name": "stdout",
     "text": [
      "const const uint16_t PROGMEM keymaps[][MATRIX_ROWS][MATRIX_COLS] = {\n",
      "  [0] = LAYOUT_4key_2u_inner(KC_ESC, ..., KC_RGHT),\n",
      "  [1] = LAYOUT_4key_2u_inner(KC_TRNS, ..., KC_NO)\n",
      "};\n"
     ]
    }
   ],
   "metadata": {}
  },
  {
   "cell_type": "code",
   "execution_count": 28,
   "source": [
    "print(C2D(\"\"\"const uint16_t PROGMEM keymaps[][MATRIX_ROWS][MATRIX_COLS] = {\r\n",
    "  [0] = LAYOUT_4key_2u_inner(KC_ESC, ..., KC_RGHT),\r\n",
    "  [1] = LAYOUT_4key_2u_inner(KC_TRNS, ..., KC_TRNS),\"\"\"))"
   ],
   "outputs": [
    {
     "output_type": "stream",
     "name": "stdout",
     "text": [
      "{\"version\": 1, \"notes\": \"\", \"keyboard\": \"ergodash/rev1\", \"keymap\": \"ergodash_rev1_layout_4key_2u_inner_mine\", \"layout\": \"LAYOUT_4key_2u_inner\", \"layers\": [[\"KC_ESC\", \"...\", \"KC_RGHT\"], [\"KC_TRNS\", \"...\", \"KC_TRNS\"]], \"author\": \"\"}\n"
     ]
    }
   ],
   "metadata": {}
  },
  {
   "cell_type": "code",
   "execution_count": 3,
   "source": [
    "in_str = \"\"\"const uint16_t PROGMEM keymaps[][MATRIX_ROWS][MATRIX_COLS] = {\r\n",
    "  [0] = LAYOUT_4key_2u_inner(KC_ESC, KC_1, KC_2, KC_3, KC_4, KC_5, KC_PSCR, KC_BSPC, KC_6, KC_7, KC_8, KC_9, KC_0, KC_DEL, KC_GRV, KC_Q, KC_W, KC_E, KC_R, KC_T, KC_MINS, KC_EQL, KC_Y, KC_U, KC_I, KC_O, KC_P, KC_BSLS, KC_TAB, KC_A, KC_S, KC_D, KC_F, KC_G, KC_LBRC, KC_RBRC, KC_H, KC_J, KC_K, KC_L, KC_SCLN, KC_QUOT, KC_LSFT, KC_Z, KC_X, KC_C, KC_V, KC_B, KC_LT, KC_UALT, KC_N, KC_M, KC_COMM, KC_DOT, KC_SLSH, KC_RSFT, KC_LCTL, KC_LGUI, KC_LALT, KC_LALT, MO(1), LT(2,KC_SPC), KC_SPC, MO(1), LT(3,KC_ENT), MO(5), KC_LEFT, KC_DOWN, KC_UP, KC_RGHT),\r\n",
    "  [1] = LAYOUT_4key_2u_inner(KC_TRNS, KC_F1, KC_F2, KC_F3, KC_F4, KC_F5, KC_NO, KC_TRNS, KC_F6, KC_F7, KC_F8, KC_F9, KC_F10, KC_F11, KC_NO, KC_EXLM, KC_AT, KC_HASH, KC_DLR, KC_PERC, KC_NO, KC_NO, KC_CIRC, KC_AMPR, KC_ASTR, KC_LPRN, KC_RPRN, KC_F12, KC_TRNS, KC_1, KC_2, KC_3, KC_4, KC_5, KC_NO, KC_NO, KC_6, KC_7, KC_8, KC_9, KC_0, KC_NO, KC_TRNS, KC_Y, KC_NO, KC_NO, KC_NO, KC_NO, KC_NO, KC_RALT, KC_NO, KC_NO, KC_NO, KC_NO, KC_NO, KC_TRNS, KC_TRNS, KC_TRNS, KC_TRNS, KC_TRNS, KC_TRNS, KC_ENT, MO(4), KC_TRNS, KC_TRNS, KC_TRNS, KC_TRNS, KC_TRNS, KC_TRNS, KC_TRNS),\r\n",
    "  [2] = LAYOUT_4key_2u_inner(KC_TRNS, KC_NO, KC_NO, KC_NO, KC_NO, KC_NO, KC_NO, KC_BSPC, KC_NO, KC_NO, KC_NO, KC_NO, KC_NO, KC_DEL, KC_TILD, KC_EXLM, KC_CIRC, KC_AMPR, KC_LBRC, KC_UNDS, KC_NO, KC_NO, KC_NO, KC_RBRC, KC_BSLS, KC_NO, KC_NO, KC_NO, KC_TRNS, KC_MINS, KC_PLUS, KC_EQL, KC_LPRN, KC_LT, KC_SPC, KC_NO, KC_GT, KC_RPRN, KC_COLN, KC_QUES, KC_DQUO, KC_QUOT, KC_TRNS, KC_SLSH, KC_ASTR, KC_PIPE, KC_LCBR, KC_PERC, KC_NO, KC_NO, KC_HASH, KC_RCBR, KC_AT, KC_DLR, KC_NO, KC_TRNS, KC_TRNS, KC_TRNS, KC_TRNS, KC_TRNS, KC_NO, KC_TRNS, KC_NO, KC_NO, KC_TRNS, KC_NO, KC_TRNS, KC_TRNS, KC_TRNS, KC_TRNS),\r\n",
    "  [3] = LAYOUT_4key_2u_inner(KC_TRNS, KC_NO, KC_NO, KC_NO, KC_NO, KC_NO, KC_NO, KC_BSPC, KC_NO, KC_NO, KC_NO, KC_NO, KC_NO, KC_DEL, KC_NO, KC_NO, KC_NO, KC_NO, KC_NO, KC_NO, KC_NO, KC_NO, KC_PGUP, KC_HOME, KC_UP, KC_END, KC_INS, KC_NO, KC_TRNS, KC_NO, KC_NO, KC_NO, KC_NO, KC_NO, KC_NO, KC_ENT, KC_PGDN, KC_LEFT, KC_DOWN, KC_RGHT, KC_DEL, KC_NO, KC_TRNS, KC_NO, KC_NO, KC_NO, KC_NO, KC_NO, KC_NO, KC_NO, KC_NO, KC_NO, KC_NO, KC_WH_U, KC_NO, KC_NO, KC_TRNS, KC_TRNS, KC_TRNS, KC_TRNS, KC_TRNS, KC_TRNS, KC_TRNS, KC_TRNS, KC_TRNS, KC_TRNS, KC_WH_L, KC_WH_D, KC_WH_R, KC_NO),\r\n",
    "  [4] = LAYOUT_4key_2u_inner(KC_NO, KC_NO, KC_NO, KC_NO, KC_NO, KC_NO, KC_NO, KC_NO, KC_NO, KC_NO, KC_NO, KC_NO, KC_NO, KC_NO, KC_NO, RESET, KC_NO, KC_NO, KC_NO, KC_NO, KC_NO, KC_NO, KC_NO, UNICODE_MODE_FORWARD, KC_NO, KC_NO, KC_NO, KC_NO, KC_NO, KC_NO, KC_NO, KC_NO, KC_NO, KC_NO, KC_NO, KC_NO, KC_NO, KC_NO, KC_NO, KC_NO, KC_NO, KC_NO, KC_NO, KC_NO, KC_NO, KC_NO, KC_NO, KC_NO, KC_NO, KC_NO, KC_NO, KC_NO, KC_NO, KC_NO, KC_NO, KC_NO, KC_NO, KC_NO, KC_NO, KC_NO, KC_TRNS, KC_TRNS, KC_TRNS, KC_TRNS, KC_TRNS, KC_TRNS, KC_NO, KC_NO, KC_NO, KC_NO),\r\n",
    "  [5] = LAYOUT_4key_2u_inner(KC_NO, KC_F1, KC_F2, KC_F3, KC_F4, KC_F5, KC_NO, KC_BSPC, KC_F6, KC_F7, KC_F8, KC_F9, KC_F10, KC_DEL, KC_NO, KC_NO, KC_NO, KC_NO, KC_NO, KC_NO, KC_NO, KC_NO, KC_NLCK, KC_P7, KC_P8, KC_P9, KC_PMNS, KC_F12, KC_TRNS, KC_NO, KC_NO, KC_NO, KC_NO, KC_NO, KC_NO, KC_NO, KC_NO, KC_P4, KC_P5, KC_P6, KC_PPLS, KC_NO, KC_TRNS, KC_NO, KC_NO, KC_NO, KC_NO, KC_NO, KC_NO, KC_TRNS, KC_NO, KC_P1, KC_P2, KC_P3, KC_NO, KC_NO, KC_TRNS, KC_TRNS, KC_TRNS, KC_TRNS, KC_TRNS, KC_TRNS, MO(4), MO(4), KC_TRNS, KC_TRNS, KC_P0, KC_PDOT, KC_COMM, KC_NO)\r\n",
    "};\"\"\"\r\n",
    "out_str = C2D(in_str)\r\n",
    "print(out_str)\r\n",
    "import datetime\r\n",
    "t = datetime.datetime.now()\r\n",
    "out_file = \"ergodash_\" + t.strftime('%Y%m%d') + \".json\"\r\n",
    "with open(out_file,'w') as thefile:\r\n",
    "    thefile.write(out_str)\r\n"
   ],
   "outputs": [
    {
     "output_type": "stream",
     "name": "stdout",
     "text": [
      "{\"version\": 1, \"notes\": \"\", \"keyboard\": \"ergodash/rev1\", \"keymap\": \"ergodash_rev1_layout_4key_2u_inner_mine\", \"layout\": \"LAYOUT_4key_2u_inner\", \"layers\": [[\"KC_ESC\", \"KC_1\", \"KC_2\", \"KC_3\", \"KC_4\", \"KC_5\", \"KC_PSCR\", \"KC_BSPC\", \"KC_6\", \"KC_7\", \"KC_8\", \"KC_9\", \"KC_0\", \"KC_DEL\", \"KC_GRV\", \"KC_Q\", \"KC_W\", \"KC_E\", \"KC_R\", \"KC_T\", \"KC_MINS\", \"KC_EQL\", \"KC_Y\", \"KC_U\", \"KC_I\", \"KC_O\", \"KC_P\", \"KC_BSLS\", \"KC_TAB\", \"KC_A\", \"KC_S\", \"KC_D\", \"KC_F\", \"KC_G\", \"KC_LBRC\", \"KC_RBRC\", \"KC_H\", \"KC_J\", \"KC_K\", \"KC_L\", \"KC_SCLN\", \"KC_QUOT\", \"KC_LSFT\", \"KC_Z\", \"KC_X\", \"KC_C\", \"KC_V\", \"KC_B\", \"KC_LT\", \"KC_UALT\", \"KC_N\", \"KC_M\", \"KC_COMM\", \"KC_DOT\", \"KC_SLSH\", \"KC_RSFT\", \"KC_LCTL\", \"KC_LGUI\", \"KC_LALT\", \"KC_LALT\", \"MO(1)\", \"LT(2,KC_SPC)\", \"KC_SPC\", \"MO(1)\", \"LT(3,KC_ENT)\", \"MO(5)\", \"KC_LEFT\", \"KC_DOWN\", \"KC_UP\", \"KC_RGHT\"], [\"KC_TRNS\", \"KC_F1\", \"KC_F2\", \"KC_F3\", \"KC_F4\", \"KC_F5\", \"KC_NO\", \"KC_TRNS\", \"KC_F6\", \"KC_F7\", \"KC_F8\", \"KC_F9\", \"KC_F10\", \"KC_F11\", \"KC_NO\", \"KC_EXLM\", \"KC_AT\", \"KC_HASH\", \"KC_DLR\", \"KC_PERC\", \"KC_NO\", \"KC_NO\", \"KC_CIRC\", \"KC_AMPR\", \"KC_ASTR\", \"KC_LPRN\", \"KC_RPRN\", \"KC_F12\", \"KC_TRNS\", \"KC_1\", \"KC_2\", \"KC_3\", \"KC_4\", \"KC_5\", \"KC_NO\", \"KC_NO\", \"KC_6\", \"KC_7\", \"KC_8\", \"KC_9\", \"KC_0\", \"KC_NO\", \"KC_TRNS\", \"KC_Y\", \"KC_NO\", \"KC_NO\", \"KC_NO\", \"KC_NO\", \"KC_NO\", \"KC_RALT\", \"KC_NO\", \"KC_NO\", \"KC_NO\", \"KC_NO\", \"KC_NO\", \"KC_TRNS\", \"KC_TRNS\", \"KC_TRNS\", \"KC_TRNS\", \"KC_TRNS\", \"KC_TRNS\", \"KC_ENT\", \"MO(4)\", \"KC_TRNS\", \"KC_TRNS\", \"KC_TRNS\", \"KC_TRNS\", \"KC_TRNS\", \"KC_TRNS\", \"KC_TRNS\"], [\"KC_TRNS\", \"KC_NO\", \"KC_NO\", \"KC_NO\", \"KC_NO\", \"KC_NO\", \"KC_NO\", \"KC_BSPC\", \"KC_NO\", \"KC_NO\", \"KC_NO\", \"KC_NO\", \"KC_NO\", \"KC_DEL\", \"KC_TILD\", \"KC_EXLM\", \"KC_CIRC\", \"KC_AMPR\", \"KC_LBRC\", \"KC_UNDS\", \"KC_NO\", \"KC_NO\", \"KC_NO\", \"KC_RBRC\", \"KC_BSLS\", \"KC_NO\", \"KC_NO\", \"KC_NO\", \"KC_TRNS\", \"KC_MINS\", \"KC_PLUS\", \"KC_EQL\", \"KC_LPRN\", \"KC_LT\", \"KC_SPC\", \"KC_NO\", \"KC_GT\", \"KC_RPRN\", \"KC_COLN\", \"KC_QUES\", \"KC_DQUO\", \"KC_QUOT\", \"KC_TRNS\", \"KC_SLSH\", \"KC_ASTR\", \"KC_PIPE\", \"KC_LCBR\", \"KC_PERC\", \"KC_NO\", \"KC_NO\", \"KC_HASH\", \"KC_RCBR\", \"KC_AT\", \"KC_DLR\", \"KC_NO\", \"KC_TRNS\", \"KC_TRNS\", \"KC_TRNS\", \"KC_TRNS\", \"KC_TRNS\", \"KC_NO\", \"KC_TRNS\", \"KC_NO\", \"KC_NO\", \"KC_TRNS\", \"KC_NO\", \"KC_TRNS\", \"KC_TRNS\", \"KC_TRNS\", \"KC_TRNS\"], [\"KC_TRNS\", \"KC_NO\", \"KC_NO\", \"KC_NO\", \"KC_NO\", \"KC_NO\", \"KC_NO\", \"KC_BSPC\", \"KC_NO\", \"KC_NO\", \"KC_NO\", \"KC_NO\", \"KC_NO\", \"KC_DEL\", \"KC_NO\", \"KC_NO\", \"KC_NO\", \"KC_NO\", \"KC_NO\", \"KC_NO\", \"KC_NO\", \"KC_NO\", \"KC_PGUP\", \"KC_HOME\", \"KC_UP\", \"KC_END\", \"KC_INS\", \"KC_NO\", \"KC_TRNS\", \"KC_NO\", \"KC_NO\", \"KC_NO\", \"KC_NO\", \"KC_NO\", \"KC_NO\", \"KC_ENT\", \"KC_PGDN\", \"KC_LEFT\", \"KC_DOWN\", \"KC_RGHT\", \"KC_DEL\", \"KC_NO\", \"KC_TRNS\", \"KC_NO\", \"KC_NO\", \"KC_NO\", \"KC_NO\", \"KC_NO\", \"KC_NO\", \"KC_NO\", \"KC_NO\", \"KC_NO\", \"KC_NO\", \"KC_WH_U\", \"KC_NO\", \"KC_NO\", \"KC_TRNS\", \"KC_TRNS\", \"KC_TRNS\", \"KC_TRNS\", \"KC_TRNS\", \"KC_TRNS\", \"KC_TRNS\", \"KC_TRNS\", \"KC_TRNS\", \"KC_TRNS\", \"KC_WH_L\", \"KC_WH_D\", \"KC_WH_R\", \"KC_NO\"], [\"KC_NO\", \"KC_NO\", \"KC_NO\", \"KC_NO\", \"KC_NO\", \"KC_NO\", \"KC_NO\", \"KC_NO\", \"KC_NO\", \"KC_NO\", \"KC_NO\", \"KC_NO\", \"KC_NO\", \"KC_NO\", \"KC_NO\", \"RESET\", \"KC_NO\", \"KC_NO\", \"KC_NO\", \"KC_NO\", \"KC_NO\", \"KC_NO\", \"KC_NO\", \"UNICODE_MODE_FORWARD\", \"KC_NO\", \"KC_NO\", \"KC_NO\", \"KC_NO\", \"KC_NO\", \"KC_NO\", \"KC_NO\", \"KC_NO\", \"KC_NO\", \"KC_NO\", \"KC_NO\", \"KC_NO\", \"KC_NO\", \"KC_NO\", \"KC_NO\", \"KC_NO\", \"KC_NO\", \"KC_NO\", \"KC_NO\", \"KC_NO\", \"KC_NO\", \"KC_NO\", \"KC_NO\", \"KC_NO\", \"KC_NO\", \"KC_NO\", \"KC_NO\", \"KC_NO\", \"KC_NO\", \"KC_NO\", \"KC_NO\", \"KC_NO\", \"KC_NO\", \"KC_NO\", \"KC_NO\", \"KC_NO\", \"KC_TRNS\", \"KC_TRNS\", \"KC_TRNS\", \"KC_TRNS\", \"KC_TRNS\", \"KC_TRNS\", \"KC_NO\", \"KC_NO\", \"KC_NO\", \"KC_NO\"], [\"KC_NO\", \"KC_F1\", \"KC_F2\", \"KC_F3\", \"KC_F4\", \"KC_F5\", \"KC_NO\", \"KC_BSPC\", \"KC_F6\", \"KC_F7\", \"KC_F8\", \"KC_F9\", \"KC_F10\", \"KC_DEL\", \"KC_NO\", \"KC_NO\", \"KC_NO\", \"KC_NO\", \"KC_NO\", \"KC_NO\", \"KC_NO\", \"KC_NO\", \"KC_NLCK\", \"KC_P7\", \"KC_P8\", \"KC_P9\", \"KC_PMNS\", \"KC_F12\", \"KC_TRNS\", \"KC_NO\", \"KC_NO\", \"KC_NO\", \"KC_NO\", \"KC_NO\", \"KC_NO\", \"KC_NO\", \"KC_NO\", \"KC_P4\", \"KC_P5\", \"KC_P6\", \"KC_PPLS\", \"KC_NO\", \"KC_TRNS\", \"KC_NO\", \"KC_NO\", \"KC_NO\", \"KC_NO\", \"KC_NO\", \"KC_NO\", \"KC_TRNS\", \"KC_NO\", \"KC_P1\", \"KC_P2\", \"KC_P3\", \"KC_NO\", \"KC_NO\", \"KC_TRNS\", \"KC_TRNS\", \"KC_TRNS\", \"KC_TRNS\", \"KC_TRNS\", \"KC_TRNS\", \"MO(4)\", \"MO(4)\", \"KC_TRNS\", \"KC_TRNS\", \"KC_P0\", \"KC_PDOT\", \"KC_COMM\", \"KC_NO\"]], \"author\": \"\"}\n"
     ]
    }
   ],
   "metadata": {}
  },
  {
   "cell_type": "code",
   "execution_count": null,
   "source": [],
   "outputs": [],
   "metadata": {}
  }
 ]
}